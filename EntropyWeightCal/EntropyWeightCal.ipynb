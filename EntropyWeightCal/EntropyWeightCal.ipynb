{
 "cells": [
  {
   "cell_type": "code",
   "execution_count": 204,
   "metadata": {},
   "outputs": [],
   "source": [
    "# -*- encoding=utf-8 -*-\n",
    "import pandas as pd\n",
    "import math\n",
    "import sys\n",
    "reload(sys)\n",
    "sys.setdefaultencoding('utf-8')\n",
    "\n",
    "origin_data = pd.read_excel(\"data.xlsx\", encoding='utf8')\n",
    "data = origin_data.iloc[:, 1:10]\n",
    "\n",
    "def get_entropy_weight(data):\n",
    "    \"\"\"\n",
    "    :param data: 评价指标数据框\n",
    "    :return: 各指标权重列表\n",
    "    \"\"\"\n",
    "    data = (data - data.min())/(data.max() - data.min())\n",
    "    m,n=data.shape\n",
    "    k=math.log(1/float(m))\n",
    "    yij=data.sum()\n",
    "    pij=data/yij\n",
    "    pij_=data/yij\n",
    "    pij_[pij_==0]=0.0001\n",
    "    lnp=pij_.applymap(lambda x: math.log(x))\n",
    "    eij=-k*(pij*lnp).sum()\n",
    "    wij=(1-eij)/(1-eij).sum()\n",
    "    return  wij\n",
    "\n",
    "wij=get_entropy_weight(data)\n",
    "score=(wij*data).sum(axis=1)\n",
    "origin_data['score']=score\n",
    "result = origin_data.sort_values(by='score', axis=0, ascending=False)\n",
    "result['rank'] = range(1, len(result) + 1)\n",
    "result.to_excel('result.xlsx',index=False)"
   ]
  }
 ],
 "metadata": {
  "kernelspec": {
   "display_name": "Python 2",
   "language": "python",
   "name": "python2"
  },
  "language_info": {
   "codemirror_mode": {
    "name": "ipython",
    "version": 2
   },
   "file_extension": ".py",
   "mimetype": "text/x-python",
   "name": "python",
   "nbconvert_exporter": "python",
   "pygments_lexer": "ipython2",
   "version": "2.7.14"
  }
 },
 "nbformat": 4,
 "nbformat_minor": 2
}
